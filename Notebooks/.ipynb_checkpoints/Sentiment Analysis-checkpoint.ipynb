{
 "cells": [
  {
   "cell_type": "code",
   "execution_count": 17,
   "metadata": {},
   "outputs": [],
   "source": [
    "import nltk\n",
    "import pandas as pd\n",
    "import numpy as np\n",
    "from nltk.sentiment.vader import SentimentIntensityAnalyzer\n",
    "from textblob import TextBlob"
   ]
  },
  {
   "cell_type": "code",
   "execution_count": 4,
   "metadata": {},
   "outputs": [
    {
     "name": "stderr",
     "output_type": "stream",
     "text": [
      "[nltk_data] Downloading package vader_lexicon to\n",
      "[nltk_data]     /home/sam/nltk_data...\n"
     ]
    },
    {
     "data": {
      "text/plain": [
       "True"
      ]
     },
     "execution_count": 4,
     "metadata": {},
     "output_type": "execute_result"
    }
   ],
   "source": [
    "nltk.download('vader_lexicon')"
   ]
  },
  {
   "cell_type": "code",
   "execution_count": 11,
   "metadata": {},
   "outputs": [],
   "source": [
    "reviews = pd.read_csv('Automotive_reviews.csv')"
   ]
  },
  {
   "cell_type": "code",
   "execution_count": 10,
   "metadata": {},
   "outputs": [],
   "source": [
    "sid = SentimentIntensityAnalyzer()"
   ]
  },
  {
   "cell_type": "code",
   "execution_count": 14,
   "metadata": {},
   "outputs": [],
   "source": [
    "review1 = reviews['text'][0]"
   ]
  },
  {
   "cell_type": "code",
   "execution_count": 18,
   "metadata": {},
   "outputs": [
    {
     "data": {
      "text/plain": [
       "{'neg': 0.114, 'neu': 0.886, 'pos': 0.0, 'compound': -0.81}"
      ]
     },
     "execution_count": 18,
     "metadata": {},
     "output_type": "execute_result"
    }
   ],
   "source": [
    "sid.polarity_scores(review1)"
   ]
  },
  {
   "cell_type": "code",
   "execution_count": 49,
   "metadata": {},
   "outputs": [
    {
     "data": {
      "text/plain": [
       "-0.13058608058608057"
      ]
     },
     "execution_count": 49,
     "metadata": {},
     "output_type": "execute_result"
    }
   ],
   "source": [
    "TextBlob(review1).sentiment.polarity"
   ]
  },
  {
   "cell_type": "code",
   "execution_count": 23,
   "metadata": {},
   "outputs": [
    {
     "data": {
      "text/plain": [
       "-0.13058608058608057"
      ]
     },
     "execution_count": 23,
     "metadata": {},
     "output_type": "execute_result"
    }
   ],
   "source": [
    "blob.sentiment.polarity"
   ]
  },
  {
   "cell_type": "code",
   "execution_count": 25,
   "metadata": {},
   "outputs": [],
   "source": [
    "reviews.dropna(inplace = True)"
   ]
  },
  {
   "cell_type": "code",
   "execution_count": 27,
   "metadata": {},
   "outputs": [
    {
     "data": {
      "text/plain": [
       "99128"
      ]
     },
     "execution_count": 27,
     "metadata": {},
     "output_type": "execute_result"
    }
   ],
   "source": [
    "len(reviews)"
   ]
  },
  {
   "cell_type": "code",
   "execution_count": 29,
   "metadata": {},
   "outputs": [],
   "source": [
    "reviews['vader_scores'] = reviews['text'].apply(lambda text:sid.polarity_scores(text))"
   ]
  },
  {
   "cell_type": "code",
   "execution_count": 39,
   "metadata": {},
   "outputs": [],
   "source": [
    "reviews['vader_compound'] = reviews['vader_scores'].apply(lambda d:d['compound'])"
   ]
  },
  {
   "cell_type": "code",
   "execution_count": 50,
   "metadata": {},
   "outputs": [],
   "source": [
    "reviews['vader_scores'] = reviews['text'].apply(lambda text:sid.polarity_scores(text))"
   ]
  },
  {
   "cell_type": "code",
   "execution_count": null,
   "metadata": {},
   "outputs": [],
   "source": [
    "reviews['blob_polarity'] = reviews['text'].apply(lambda text:TextBlob(text).sentiment.polarity)"
   ]
  },
  {
   "cell_type": "code",
   "execution_count": 45,
   "metadata": {},
   "outputs": [],
   "source": [
    "#Normalizing rating to -1,1 range by interpolation for comparison\n",
    "reviews['vader_normalized'] = reviews['vader_compound'].apply(lambda r: (r-min(reviews['vader_compound'])/(max(reviews['vader_compound'])-min(reviews['vader_compound']))))"
   ]
  },
  {
   "cell_type": "code",
   "execution_count": 51,
   "metadata": {},
   "outputs": [
    {
     "data": {
      "text/html": [
       "<div>\n",
       "<style scoped>\n",
       "    .dataframe tbody tr th:only-of-type {\n",
       "        vertical-align: middle;\n",
       "    }\n",
       "\n",
       "    .dataframe tbody tr th {\n",
       "        vertical-align: top;\n",
       "    }\n",
       "\n",
       "    .dataframe thead th {\n",
       "        text-align: right;\n",
       "    }\n",
       "</style>\n",
       "<table border=\"1\" class=\"dataframe\">\n",
       "  <thead>\n",
       "    <tr style=\"text-align: right;\">\n",
       "      <th></th>\n",
       "      <th>Unnamed: 0</th>\n",
       "      <th>asin</th>\n",
       "      <th>id</th>\n",
       "      <th>rating</th>\n",
       "      <th>title</th>\n",
       "      <th>date</th>\n",
       "      <th>text</th>\n",
       "      <th>vader_scores</th>\n",
       "      <th>vared_compound</th>\n",
       "      <th>vader_compound</th>\n",
       "      <th>vader_normalized</th>\n",
       "      <th>blob_polarity</th>\n",
       "    </tr>\n",
       "  </thead>\n",
       "  <tbody>\n",
       "    <tr>\n",
       "      <th>0</th>\n",
       "      <td>0</td>\n",
       "      <td>B000BPLNXC</td>\n",
       "      <td>Jeff Thompson</td>\n",
       "      <td>1.0</td>\n",
       "      <td>Terrible</td>\n",
       "      <td>March 28, 2017</td>\n",
       "      <td>Terrible.  Don't buy this.  The bristles of th...</td>\n",
       "      <td>{'neg': 0.114, 'neu': 0.886, 'pos': 0.0, 'comp...</td>\n",
       "      <td>-0.8100</td>\n",
       "      <td>-0.8100</td>\n",
       "      <td>-0.31148</td>\n",
       "      <td>-0.130586</td>\n",
       "    </tr>\n",
       "    <tr>\n",
       "      <th>1</th>\n",
       "      <td>1</td>\n",
       "      <td>B000BPLNXC</td>\n",
       "      <td>PsychUOut13</td>\n",
       "      <td>1.0</td>\n",
       "      <td>Not Confident in this Brush</td>\n",
       "      <td>November 5, 2017</td>\n",
       "      <td>Well, I ordered this ice scraper/brush due to ...</td>\n",
       "      <td>{'neg': 0.083, 'neu': 0.832, 'pos': 0.085, 'co...</td>\n",
       "      <td>0.2896</td>\n",
       "      <td>0.2896</td>\n",
       "      <td>0.78812</td>\n",
       "      <td>0.051578</td>\n",
       "    </tr>\n",
       "    <tr>\n",
       "      <th>2</th>\n",
       "      <td>2</td>\n",
       "      <td>B000BPLNXC</td>\n",
       "      <td>Flaxon</td>\n",
       "      <td>2.0</td>\n",
       "      <td>Swing and a miss</td>\n",
       "      <td>December 16, 2016</td>\n",
       "      <td>Purchased due to the season being what it is; ...</td>\n",
       "      <td>{'neg': 0.024, 'neu': 0.863, 'pos': 0.112, 'co...</td>\n",
       "      <td>0.5789</td>\n",
       "      <td>0.5789</td>\n",
       "      <td>1.07742</td>\n",
       "      <td>0.089583</td>\n",
       "    </tr>\n",
       "    <tr>\n",
       "      <th>3</th>\n",
       "      <td>3</td>\n",
       "      <td>B000BPLNXC</td>\n",
       "      <td>Jeff B.</td>\n",
       "      <td>1.0</td>\n",
       "      <td>Does not do its job</td>\n",
       "      <td>December 17, 2016</td>\n",
       "      <td>I had barely used this product for 30 seconds ...</td>\n",
       "      <td>{'neg': 0.066, 'neu': 0.883, 'pos': 0.051, 'co...</td>\n",
       "      <td>-0.0865</td>\n",
       "      <td>-0.0865</td>\n",
       "      <td>0.41202</td>\n",
       "      <td>0.347222</td>\n",
       "    </tr>\n",
       "    <tr>\n",
       "      <th>4</th>\n",
       "      <td>4</td>\n",
       "      <td>B000BPLNXC</td>\n",
       "      <td>JYLY</td>\n",
       "      <td>4.0</td>\n",
       "      <td>Good snow brush</td>\n",
       "      <td>January 18, 2018</td>\n",
       "      <td>Decent snow brush now that I've actually recei...</td>\n",
       "      <td>{'neg': 0.129, 'neu': 0.767, 'pos': 0.104, 'co...</td>\n",
       "      <td>-0.5976</td>\n",
       "      <td>-0.5976</td>\n",
       "      <td>-0.09908</td>\n",
       "      <td>0.112500</td>\n",
       "    </tr>\n",
       "  </tbody>\n",
       "</table>\n",
       "</div>"
      ],
      "text/plain": [
       "   Unnamed: 0        asin             id  rating                        title  \\\n",
       "0           0  B000BPLNXC  Jeff Thompson     1.0                     Terrible   \n",
       "1           1  B000BPLNXC    PsychUOut13     1.0  Not Confident in this Brush   \n",
       "2           2  B000BPLNXC         Flaxon     2.0             Swing and a miss   \n",
       "3           3  B000BPLNXC        Jeff B.     1.0          Does not do its job   \n",
       "4           4  B000BPLNXC           JYLY     4.0              Good snow brush   \n",
       "\n",
       "                date                                               text  \\\n",
       "0     March 28, 2017  Terrible.  Don't buy this.  The bristles of th...   \n",
       "1   November 5, 2017  Well, I ordered this ice scraper/brush due to ...   \n",
       "2  December 16, 2016  Purchased due to the season being what it is; ...   \n",
       "3  December 17, 2016  I had barely used this product for 30 seconds ...   \n",
       "4   January 18, 2018  Decent snow brush now that I've actually recei...   \n",
       "\n",
       "                                        vader_scores  vared_compound  \\\n",
       "0  {'neg': 0.114, 'neu': 0.886, 'pos': 0.0, 'comp...         -0.8100   \n",
       "1  {'neg': 0.083, 'neu': 0.832, 'pos': 0.085, 'co...          0.2896   \n",
       "2  {'neg': 0.024, 'neu': 0.863, 'pos': 0.112, 'co...          0.5789   \n",
       "3  {'neg': 0.066, 'neu': 0.883, 'pos': 0.051, 'co...         -0.0865   \n",
       "4  {'neg': 0.129, 'neu': 0.767, 'pos': 0.104, 'co...         -0.5976   \n",
       "\n",
       "   vader_compound  vader_normalized  blob_polarity  \n",
       "0         -0.8100          -0.31148      -0.130586  \n",
       "1          0.2896           0.78812       0.051578  \n",
       "2          0.5789           1.07742       0.089583  \n",
       "3         -0.0865           0.41202       0.347222  \n",
       "4         -0.5976          -0.09908       0.112500  "
      ]
     },
     "execution_count": 51,
     "metadata": {},
     "output_type": "execute_result"
    }
   ],
   "source": [
    "reviews.head()"
   ]
  }
 ],
 "metadata": {
  "kernelspec": {
   "display_name": "Python 3",
   "language": "python",
   "name": "python3"
  },
  "language_info": {
   "codemirror_mode": {
    "name": "ipython",
    "version": 3
   },
   "file_extension": ".py",
   "mimetype": "text/x-python",
   "name": "python",
   "nbconvert_exporter": "python",
   "pygments_lexer": "ipython3",
   "version": "3.7.1"
  }
 },
 "nbformat": 4,
 "nbformat_minor": 2
}
