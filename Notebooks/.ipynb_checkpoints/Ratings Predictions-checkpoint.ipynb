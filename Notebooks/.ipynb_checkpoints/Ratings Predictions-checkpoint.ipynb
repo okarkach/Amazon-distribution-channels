{
 "cells": [
  {
   "cell_type": "code",
   "execution_count": 81,
   "metadata": {},
   "outputs": [],
   "source": [
    "import os\n",
    "import pandas as pd\n",
    "import numpy as np\n",
    "import matplotlib.pyplot as plt\n",
    "import gensim\n",
    "import spacy\n",
    "import string\n",
    "from gensim.models import Word2Vec\n",
    "from gensim.test.utils import get_tmpfile\n",
    "import logging\n",
    "import re\n",
    "from keras.preprocessing.text import Tokenizer\n",
    "from sklearn.model_selection import train_test_split\n",
    "from keras.preprocessing.sequence import pad_sequences\n",
    "from keras.models import Sequential\n",
    "from keras import layers\n",
    "from keras.utils import to_categorical"
   ]
  },
  {
   "cell_type": "code",
   "execution_count": 82,
   "metadata": {},
   "outputs": [],
   "source": [
    "#Helper Plotting function\n",
    "plt.style.use('ggplot')\n",
    "\n",
    "def plot_history(history):\n",
    "    acc = history.history['acc']\n",
    "    val_acc = history.history['val_acc']\n",
    "    loss = history.history['loss']\n",
    "    val_loss = history.history['val_loss']\n",
    "    x = range(1, len(acc) + 1)\n",
    "\n",
    "    plt.figure(figsize=(12, 5))\n",
    "    plt.subplot(1, 2, 1)\n",
    "    plt.plot(x, acc, 'b', label='Training acc')\n",
    "    plt.plot(x, val_acc, 'r', label='Validation acc')\n",
    "    plt.title('Training and validation accuracy')\n",
    "    plt.legend()\n",
    "    plt.subplot(1, 2, 2)\n",
    "    plt.plot(x, loss, 'b', label='Training loss')\n",
    "    plt.plot(x, val_loss, 'r', label='Validation loss')\n",
    "    plt.title('Training and validation loss')\n",
    "    plt.legend()"
   ]
  },
  {
   "cell_type": "code",
   "execution_count": 2,
   "metadata": {},
   "outputs": [],
   "source": [
    "#Setting Working Directory\n",
    "os.chdir('/Users/samk/Box/scrapers/amazon.com/AmazonScraper/Departments/Appliances')"
   ]
  },
  {
   "cell_type": "code",
   "execution_count": 4,
   "metadata": {},
   "outputs": [],
   "source": [
    "#importing the data\n",
    "reviews = pd.read_csv('Appliances_reviews.csv')"
   ]
  },
  {
   "cell_type": "code",
   "execution_count": 12,
   "metadata": {},
   "outputs": [],
   "source": [
    "#Subsetting the data to just the text and rating columns\n",
    "ratings = reviews.loc[:, ['text','rating']]"
   ]
  },
  {
   "cell_type": "code",
   "execution_count": 19,
   "metadata": {},
   "outputs": [],
   "source": [
    "#converting all elements of pandas series to str\n",
    "ratings['text'] = ratings['text'].apply(lambda text: str(text))"
   ]
  },
  {
   "cell_type": "code",
   "execution_count": 20,
   "metadata": {},
   "outputs": [],
   "source": [
    "#Preprocessing text with Gensim utils\n",
    "ratings['text_clean'] = ratings['text'].apply(lambda text: gensim.utils.simple_preprocess(text))"
   ]
  },
  {
   "cell_type": "code",
   "execution_count": 84,
   "metadata": {},
   "outputs": [],
   "source": [
    "#Defining X features and Y labels\n",
    "X = ratings['text_clean']\n",
    "y = ratings['rating']"
   ]
  },
  {
   "cell_type": "code",
   "execution_count": 85,
   "metadata": {},
   "outputs": [],
   "source": [
    "#Converting the dependent variable to categorical\n",
    "Y_cat = to_categorical(y, 6)"
   ]
  },
  {
   "cell_type": "code",
   "execution_count": 102,
   "metadata": {},
   "outputs": [],
   "source": [
    "#Splitting data into train and test sets\n",
    "sentences_train, sentences_test, y_train, y_test = train_test_split(X, Y_cat, test_size=0.25, random_state=1000)"
   ]
  },
  {
   "cell_type": "code",
   "execution_count": 103,
   "metadata": {},
   "outputs": [],
   "source": [
    "#Preprocessing text with Keras Tokenizer\n",
    "tokenizer = Tokenizer(num_words=5000)\n",
    "tokenizer.fit_on_texts(sentences_train)"
   ]
  },
  {
   "cell_type": "code",
   "execution_count": 113,
   "metadata": {},
   "outputs": [],
   "source": [
    "#Transforming text to sequences\n",
    "X_train = tokenizer.texts_to_sequences(sentences_train)\n",
    "X_test = tokenizer.texts_to_sequences(sentences_test)"
   ]
  },
  {
   "cell_type": "code",
   "execution_count": 79,
   "metadata": {},
   "outputs": [],
   "source": []
  },
  {
   "cell_type": "code",
   "execution_count": 114,
   "metadata": {},
   "outputs": [],
   "source": [
    "#Defining the vocabulary size\n",
    "vocab_size = len(tokenizer.word_index) + 1"
   ]
  },
  {
   "cell_type": "code",
   "execution_count": 118,
   "metadata": {},
   "outputs": [
    {
     "name": "stdout",
     "output_type": "stream",
     "text": [
      "['give', 'it', 'stars', 'for', 'function', 'and', 'form', 'it', 'easy', 'to', 'install', 'and', 'the', 'water', 'tastes', 'great', 'however', 'for', 'value', 'and', 'heavy', 'handed', 'business', 'practices', 'give', 'it', 'sub', 'star', 'seriously', 'so', 'it', 'not', 'enough', 'that', 'buy', 'refrigerator', 'from', 'ge', 'they', 'need', 'want', 'recurring', 'revenue', 'stream', 'so', 'bad', 'they', 'make', 'me', 'buy', 'their', 'over', 'priced', 'proprietary', 'water', 'filter', 'otherwise', 'my', 'fridge', 'glares', 'at', 'me', 'with', 'red', 'warning', 'message', 'that', 'cannot', 'get', 'rid', 'of', 'that', 'burns', 'me', 'up', 'frankly', 'either', 'reduce', 'the', 'cost', 'allow', 'me', 'to', 'buy', 'an', 'off', 'brand', 'filter', 'or', 'allow', 'me', 'to', 'turn', 'off', 'the', 'warning', 'message', 'know', 'there', 'chance', 'ge', 'reps', 'will', 'never', 'read', 'this', 'but', 'this', 'filter', 'for', 'me', 'is', 'deal', 'killer', 'for', 'future', 'ge', 'appliance', 'purchases', 'if', 'ge', 'wants', 'to', 'bully', 'people', 'into', 'buying', 'overpriced', 'water', 'filters', 'that', 'fine', 'but', 'when', 'it', 'time', 'for', 'new', 'refrigerator', 'they', 'won', 'be', 'doing', 'it', 'to', 'me']\n",
      "[103, 20, 19, 14, 16, 896, 118, 89, 4, 176, 16, 203, 415, 122, 138, 26, 103, 7, 199, 179, 1337, 9, 89, 2, 7, 3148, 1850, 8, 632, 15, 138, 26, 40, 21, 189, 30, 24, 21, 306, 128, 4, 641, 72, 197, 2065, 3, 489, 6, 302, 377, 116, 4, 76, 1, 24, 135, 75, 114, 339, 28, 71, 2, 43, 13, 493, 66, 4, 46, 24, 122, 121]\n"
     ]
    }
   ],
   "source": [
    "#Checking actual sentence with its vocab index representation\n",
    "print(sentences_train[1])\n",
    "print(X_train[1])"
   ]
  },
  {
   "cell_type": "code",
   "execution_count": 107,
   "metadata": {},
   "outputs": [
    {
     "name": "stdout",
     "output_type": "stream",
     "text": [
      "1527\n"
     ]
    },
    {
     "name": "stderr",
     "output_type": "stream",
     "text": [
      "/Library/Frameworks/Python.framework/Versions/3.7/lib/python3.7/site-packages/ipykernel_launcher.py:3: FutureWarning: 'argmax' is deprecated, use 'idxmax' instead. The behavior of 'argmax'\n",
      "will be corrected to return the positional maximum in the future.\n",
      "Use 'series.values.argmax' to get the position of the maximum now.\n",
      "  This is separate from the ipykernel package so we can avoid doing imports until\n"
     ]
    }
   ],
   "source": [
    "# Identifying the max len of the longest string in the corpus setting the padding sequence\n",
    "length = ratings['text_clean'].astype(str).map(len)\n",
    "print (len(ratings.loc[length.argmax(), 'text_clean']))"
   ]
  },
  {
   "cell_type": "code",
   "execution_count": 111,
   "metadata": {},
   "outputs": [],
   "source": [
    "# Padding the sequences to have the same length\n",
    "#Setting max len at 100 tokens per sequence\n",
    "maxlen = 100\n",
    "\n",
    "X_train = pad_sequences(X_train, padding='post', maxlen=maxlen)\n",
    "X_test = pad_sequences(X_test, padding='post', maxlen=maxlen)\n"
   ]
  },
  {
   "cell_type": "code",
   "execution_count": 94,
   "metadata": {},
   "outputs": [],
   "source": [
    "#Creating function to load Glove Pretrained model 50d to create the word embedding layer\n",
    "\n",
    "def create_embedding_matrix(filepath, word_index, embedding_dim):\n",
    "    vocab_size = len(word_index) + 1  # Adding again 1 because of reserved 0 index\n",
    "    embedding_matrix = np.zeros((vocab_size, embedding_dim))\n",
    "\n",
    "    with open(filepath) as f:\n",
    "        for line in f:\n",
    "            word, *vector = line.split()\n",
    "            if word in word_index:\n",
    "                idx = word_index[word] \n",
    "                embedding_matrix[idx] = np.array(\n",
    "                    vector, dtype=np.float32)[:embedding_dim]\n",
    "\n",
    "    return embedding_matrix"
   ]
  },
  {
   "cell_type": "code",
   "execution_count": 95,
   "metadata": {},
   "outputs": [],
   "source": [
    "#Retrieving the embedding matrix\n",
    "embedding_dim = 50\n",
    "embedding_matrix = create_embedding_matrix(\n",
    "     '/Users/samk/Documents/glove/glove.6B.50d.txt',\n",
    "   tokenizer.word_index, embedding_dim)"
   ]
  },
  {
   "cell_type": "code",
   "execution_count": 96,
   "metadata": {},
   "outputs": [
    {
     "data": {
      "text/plain": [
       "0.8361118803655497"
      ]
     },
     "execution_count": 96,
     "metadata": {},
     "output_type": "execute_result"
    }
   ],
   "source": [
    "# Assessing the number of non zero elements to check the coverage of the vocabulary by the embedding matrix\n",
    "nonzero_elements = np.count_nonzero(np.count_nonzero(embedding_matrix, axis=1))\n",
    "nonzero_elements / vocab_size\n"
   ]
  },
  {
   "cell_type": "code",
   "execution_count": 97,
   "metadata": {},
   "outputs": [
    {
     "name": "stdout",
     "output_type": "stream",
     "text": [
      "_________________________________________________________________\n",
      "Layer (type)                 Output Shape              Param #   \n",
      "=================================================================\n",
      "embedding_6 (Embedding)      (None, 50, 50)            902750    \n",
      "_________________________________________________________________\n",
      "lstm_4 (LSTM)                (None, 128)               91648     \n",
      "_________________________________________________________________\n",
      "dense_9 (Dense)              (None, 10)                1290      \n",
      "_________________________________________________________________\n",
      "dense_10 (Dense)             (None, 6)                 66        \n",
      "=================================================================\n",
      "Total params: 995,754\n",
      "Trainable params: 995,754\n",
      "Non-trainable params: 0\n",
      "_________________________________________________________________\n"
     ]
    }
   ],
   "source": [
    "#Defining our model\n",
    "embedding_dim = 50\n",
    "\n",
    "model = Sequential()\n",
    "model.add(layers.Embedding(vocab_size, embedding_dim, input_length=maxlen))\n",
    "model.add(layers.LSTM(128, activation='relu'))\n",
    "model.add(layers.Dense(10, activation='relu'))\n",
    "model.add(layers.Dense(6, activation='softmax'))\n",
    "model.compile(optimizer='adam',\n",
    "              loss='categorical_crossentropy',\n",
    "              metrics=['accuracy'])\n",
    "model.summary()"
   ]
  },
  {
   "cell_type": "code",
   "execution_count": 99,
   "metadata": {},
   "outputs": [
    {
     "name": "stdout",
     "output_type": "stream",
     "text": [
      "Train on 37206 samples, validate on 12402 samples\n",
      "Epoch 1/10\n",
      "37206/37206 [==============================] - 191s 5ms/step - loss: 1.2308 - acc: 0.5922 - val_loss: 1.2130 - val_acc: 0.5939\n",
      "Epoch 2/10\n",
      "37206/37206 [==============================] - 187s 5ms/step - loss: 1.2291 - acc: 0.5928 - val_loss: 1.2092 - val_acc: 0.5944\n",
      "Epoch 3/10\n",
      "37206/37206 [==============================] - 185s 5ms/step - loss: 3.7050 - acc: 0.5381 - val_loss: 1.2106 - val_acc: 0.5926\n",
      "Epoch 4/10\n",
      "37206/37206 [==============================] - 185s 5ms/step - loss: 1.3107 - acc: 0.5947 - val_loss: 1.4582 - val_acc: 0.5964\n",
      "Epoch 5/10\n",
      "37206/37206 [==============================] - 185s 5ms/step - loss: 1.2831 - acc: 0.5981 - val_loss: 1.2141 - val_acc: 0.5936\n",
      "Epoch 6/10\n",
      "37206/37206 [==============================] - 184s 5ms/step - loss: 1.2289 - acc: 0.6001 - val_loss: 1.4667 - val_acc: 0.5955\n",
      "Epoch 7/10\n",
      "37206/37206 [==============================] - 185s 5ms/step - loss: 4.1902 - acc: 0.5958 - val_loss: 1.2703 - val_acc: 0.5914\n",
      "Epoch 8/10\n",
      "37206/37206 [==============================] - 185s 5ms/step - loss: 1.2726 - acc: 0.5979 - val_loss: 1.2196 - val_acc: 0.5925\n",
      "Epoch 9/10\n",
      "37206/37206 [==============================] - 185s 5ms/step - loss: 1.1911 - acc: 0.6043 - val_loss: 1.2194 - val_acc: 0.5939\n",
      "Epoch 10/10\n",
      "37206/37206 [==============================] - 185s 5ms/step - loss: 1.1776 - acc: 0.6080 - val_loss: 1.2568 - val_acc: 0.5915\n",
      "Training Accuracy: 0.6135\n",
      "Testing Accuracy:  0.5915\n"
     ]
    },
    {
     "data": {
      "image/png": "[encoded data removed]",
      "text/plain": [
       "<Figure size 864x360 with 2 Axes>"
      ]
     },
     "metadata": {},
     "output_type": "display_data"
    }
   ],
   "source": [
    "#Training the model and plotting results\n",
    "history = model.fit(X_train, y_train,\n",
    "                    epochs=10,\n",
    "                    verbose=True,\n",
    "                    validation_data=(X_test, y_test),\n",
    "                    batch_size=10)\n",
    "loss, accuracy = model.evaluate(X_train, y_train, verbose=False)\n",
    "print(\"Training Accuracy: {:.4f}\".format(accuracy))\n",
    "loss, accuracy = model.evaluate(X_test, y_test, verbose=False)\n",
    "print(\"Testing Accuracy:  {:.4f}\".format(accuracy))\n",
    "plot_history(history)\n"
   ]
  },
  {
   "cell_type": "code",
   "execution_count": 92,
   "metadata": {},
   "outputs": [
    {
     "data": {
      "text/plain": [
       "array([[0., 0., 0., 0., 0., 1.],\n",
       "       [0., 0., 1., 0., 0., 0.],\n",
       "       [0., 0., 0., 0., 0., 1.],\n",
       "       ...,\n",
       "       [0., 0., 0., 0., 0., 1.],\n",
       "       [0., 0., 0., 1., 0., 0.],\n",
       "       [0., 0., 0., 0., 1., 0.]], dtype=float32)"
      ]
     },
     "execution_count": 92,
     "metadata": {},
     "output_type": "execute_result"
    }
   ],
   "source": [
    "y_train"
   ]
  }
 ],
 "metadata": {
  "kernelspec": {
   "display_name": "Python 3",
   "language": "python",
   "name": "python3"
  },
  "language_info": {
   "codemirror_mode": {
    "name": "ipython",
    "version": 3
   },
   "file_extension": ".py",
   "mimetype": "text/x-python",
   "name": "python",
   "nbconvert_exporter": "python",
   "pygments_lexer": "ipython3",
   "version": "3.7.1"
  }
 },
 "nbformat": 4,
 "nbformat_minor": 2
}
